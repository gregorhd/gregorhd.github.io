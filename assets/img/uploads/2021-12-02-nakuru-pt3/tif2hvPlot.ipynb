{
 "cells": [
  {
   "cell_type": "markdown",
   "metadata": {},
   "source": [
    "##  Data prep and symbology - Xarray and GeoViews\n",
    "\n",
    "You can download the source GeoTIFFs for this notebook and a QGIS style file [here](https://gregorhd.github.io/assets/img/uploads/2021-12-02-nakuru-pt3/03_final.rar).\n",
    "\n",
    "As usual, we start with all the necessary imports."
   ]
  },
  {
   "cell_type": "code",
   "execution_count": null,
   "metadata": {},
   "outputs": [],
   "source": [
    "import glob\n",
    "import xarray as xr\n",
    "import pandas as pd\n",
    "from cartopy import crs as ccrs\n",
    "import hvplot.xarray\n",
    "import geoviews as gv\n",
    "\n",
    "# give our plot a nice dark theme courtesy of Bokeh\n",
    "gv.renderer('bokeh').theme = 'dark_minimal'"
   ]
  },
  {
   "cell_type": "markdown",
   "metadata": {},
   "source": [
    "We then need to create an [Xarray](https://xarray.pydata.org/en/stable/) `Dataset` from our three GeoTIFF files and add in some additional metadata (kudos to [Digital Earth Australia](https://docs.dea.ga.gov.au/notebooks/Frequently_used_code/Opening_GeoTIFFs_NetCDFs.html) for a great tutorial on this)."
   ]
  },
  {
   "cell_type": "code",
   "execution_count": null,
   "metadata": {},
   "outputs": [],
   "source": [
    "# Create list of file paths for all final GeoTIFFs in our folder\n",
    "tif_list = glob.glob('03_final/*.tif')\n",
    "\n",
    "# Create a 'time' coordinate along which to later display each DataArray\n",
    "time_var = xr.Variable('time', pd.to_datetime(['2002-09-13', '2011-09-14', '2020-10-08']))\n",
    "\n",
    "# Load and concatenate all individual GeoTIFFs\n",
    "da = xr.concat([xr.open_rasterio(i) for i in tif_list], dim=time_var)\n",
    "\n",
    "# Convert to dataset\n",
    "ds = da.to_dataset('band')\n",
    "\n",
    "# rename the dataset's first (and only) data variable\n",
    "ds = ds.rename({1: 'landcover'})\n",
    "\n",
    "# This resets my no data values from 255 to nan\n",
    "ds = ds.where(ds['landcover'] != 255)\n"
   ]
  },
  {
   "cell_type": "markdown",
   "metadata": {},
   "source": [
    "The approach to symbology and legend creation is similar to what we used in the *datashader* example [here](https://gregorhd.github.io/osm2bokehserver-pt1/#preparing-the-script). We simply need to make sure that the order of information classes in the `color_key` `dict` matches the order of integer values in our data."
   ]
  },
  {
   "cell_type": "code",
   "execution_count": null,
   "metadata": {
    "scrolled": true
   },
   "outputs": [],
   "source": [
    "# define the labels and corresponding colors\n",
    "color_key = {'0 - Urban': '#000000', \n",
    "             '1 - Non-urban': '#FFFF00',\n",
    "             '2 - Dense vegetation': '#00CC00',\n",
    "             '3 - Water': '#009EE0',\n",
    "             '4 - Clouds': '#FFFFFF',\n",
    "             '5 - Shadows': '#FF0000'\n",
    "            }\n",
    "\n",
    "legend = gv.NdOverlay(\n",
    "    {k: gv.Points([0,0], label=str(k)).opts(color=v, apply_ranges=False) for k, v in color_key.items()},\n",
    "    'Landcover').opts(legend_position='top'\n",
    "    )\n"
   ]
  },
  {
   "cell_type": "markdown",
   "metadata": {},
   "source": [
    "## Final output - hvPlot\n",
    "\n",
    "The magic of *hvPlot* is its superbly succinct syntax. After defining our plot's look and features through keyword arguments all contained in a single function call, we simply *multiply* the individual *HoloViews* objects we defined to create an [Overlay](http://holoviews.org/reference/containers/bokeh/Overlay.html), in this case consisting of the plot itself and the legend - and we're done!\n",
    "\n",
    "By setting the `groupby=` keyword argument, *hvPlot* is able to automatically add a slider widget allowing us to change between the `Dataset`'s three `DataArrays` along the 'time' dimension (depending on the size of your data, there may be a slight delay of a few seconds before the plot updates in a live notebook)."
   ]
  },
  {
   "cell_type": "code",
   "execution_count": null,
   "metadata": {},
   "outputs": [],
   "source": [
    "plot = ds.landcover.hvplot(groupby='time', frame_width=600, data_aspect=1, \n",
    "                           yaxis=None, xaxis=None, \n",
    "                           colorbar=False, cmap=[v for v in color_key.values()],\n",
    "                           \n",
    "                           # defining the data's CRS is only really necessary, \n",
    "                           # if you want to add a tile layer underneath\n",
    "                           crs=ccrs.UTM(36), tiles=True\n",
    "                          )\n",
    "\n",
    "# We can set all of Bokeh's figure settings as part of the '.opts()' method\n",
    "overlay = (plot * legend).opts(active_tools=['wheel_zoom'])\n",
    "\n",
    "overlay"
   ]
  },
  {
   "cell_type": "markdown",
   "metadata": {},
   "source": [
    "Not a perfect classification by any means (my heart goes out to all those urban areas *disappearing* between 2002 and 2011!), but good enough for demonstrating what's possible with these powerful and freely available tools.\n",
    "\n",
    "Finally, if we want, we can save our plot to an HTML file which, in this case, runs to around 100Mb, a good indication that making use of hvPlot's [built-in *datashader* support](https://hvplot.holoviz.org/user_guide/Customization.html#datashading-options) is worth considering for wider distribution."
   ]
  },
  {
   "cell_type": "code",
   "execution_count": null,
   "metadata": {},
   "outputs": [],
   "source": [
    "hvplot.save(overlay,'nakuru-pt3.html')"
   ]
  },
  {
   "cell_type": "markdown",
   "metadata": {},
   "source": [
    "So there you have it! Another free and open-source workflow for remote sensing and data visualisation.\n",
    "\n",
    "As always, thoughts, comments and critique are more than welcome."
   ]
  }
 ],
 "metadata": {
  "kernelspec": {
   "display_name": "Python 3 (ipykernel)",
   "language": "python",
   "name": "python3"
  },
  "language_info": {
   "codemirror_mode": {
    "name": "ipython",
    "version": 3
   },
   "file_extension": ".py",
   "mimetype": "text/x-python",
   "name": "python",
   "nbconvert_exporter": "python",
   "pygments_lexer": "ipython3",
   "version": "3.9.7"
  }
 },
 "nbformat": 4,
 "nbformat_minor": 2
}
